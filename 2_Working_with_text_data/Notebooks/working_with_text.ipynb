{
 "cells": [
  {
   "cell_type": "code",
   "execution_count": 1,
   "id": "240355b6",
   "metadata": {},
   "outputs": [
    {
     "name": "stdout",
     "output_type": "stream",
     "text": [
      "total number of characters in the file: 20479\n"
     ]
    }
   ],
   "source": [
    "with open(\"the_verdict.txt\") as f:\n",
    "    raw_text = f.read() \n",
    "\n",
    "print(\"total number of characters in the file:\", len(raw_text   )) "
   ]
  },
  {
   "cell_type": "code",
   "execution_count": null,
   "id": "ec515c9c",
   "metadata": {},
   "outputs": [],
   "source": []
  }
 ],
 "metadata": {
  "kernelspec": {
   "display_name": "llmfromscratch",
   "language": "python",
   "name": "python3"
  },
  "language_info": {
   "codemirror_mode": {
    "name": "ipython",
    "version": 3
   },
   "file_extension": ".py",
   "mimetype": "text/x-python",
   "name": "python",
   "nbconvert_exporter": "python",
   "pygments_lexer": "ipython3",
   "version": "3.10.16"
  }
 },
 "nbformat": 4,
 "nbformat_minor": 5
}
